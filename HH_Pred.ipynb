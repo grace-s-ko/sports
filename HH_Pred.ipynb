{
  "nbformat": 4,
  "nbformat_minor": 0,
  "metadata": {
    "colab": {
      "name": "HH_Pred.ipynb",
      "provenance": [],
      "collapsed_sections": []
    },
    "kernelspec": {
      "name": "python3",
      "display_name": "Python 3"
    }
  },
  "cells": [
    {
      "cell_type": "code",
      "metadata": {
        "id": "OvW50CwnkcwO"
      },
      "source": [
        "from keras.models import Sequential\n",
        "from keras.layers import Dense, Input, Activation, Dropout\n",
        "import numpy as np\n",
        "import pandas as pd\n",
        "import matplotlib.pyplot as plt"
      ],
      "execution_count": null,
      "outputs": []
    },
    {
      "cell_type": "code",
      "metadata": {
        "id": "h3mOAymYcOaq",
        "outputId": "8c442a83-46a9-4c3d-aed0-c7412fc8bae2",
        "colab": {
          "base_uri": "https://localhost:8080/",
          "height": 34
        }
      },
      "source": [
        "from google.colab import drive\n",
        "drive.mount('/content/drive')"
      ],
      "execution_count": null,
      "outputs": [
        {
          "output_type": "stream",
          "text": [
            "Mounted at /content/drive\n"
          ],
          "name": "stdout"
        }
      ]
    },
    {
      "cell_type": "code",
      "metadata": {
        "id": "z_UQEgMQrGkr"
      },
      "source": [
        "train_dataset = pd.read_csv('/content/drive/My Drive/Colab Notebooks/HH.csv')\n",
        "pred_dataset = pd.read_csv('/content/drive/My Drive/Colab Notebooks/HH_Pred.csv')\n",
        "\n",
        "x_train = train_dataset.transpose()[:-3]\n",
        "y_train = train_dataset.transpose()[-3:]\n",
        "x_train = x_train.transpose()\n",
        "y_train = y_train.transpose()\n",
        "\n",
        "x_pred = pred_dataset"
      ],
      "execution_count": null,
      "outputs": []
    },
    {
      "cell_type": "code",
      "metadata": {
        "id": "6UNMYn7bkhcJ"
      },
      "source": [
        "model = Sequential()\n",
        "Input(shape=(21, ))\n",
        "model.add(Dense(64, activation='relu'))\n",
        "model.add(Dropout(0.2))\n",
        "model.add(Dense(64, activation = 'relu'))\n",
        "model.add(Dense(3))\n",
        "\n",
        "model.compile(loss='mae', optimizer = 'adam')\n",
        "model.fit(x_train, y_train, epochs=1500, batch_size=12)"
      ],
      "execution_count": null,
      "outputs": []
    },
    {
      "cell_type": "code",
      "metadata": {
        "id": "oGb-Hgnr2RJl"
      },
      "source": [
        "y_pred = model.predict(x_pred, batch_size=1)\n",
        "print(y_pred)"
      ],
      "execution_count": null,
      "outputs": []
    },
    {
      "cell_type": "markdown",
      "metadata": {
        "id": "z0XTFZz5wi8Q"
      },
      "source": [
        ""
      ]
    }
  ]
}